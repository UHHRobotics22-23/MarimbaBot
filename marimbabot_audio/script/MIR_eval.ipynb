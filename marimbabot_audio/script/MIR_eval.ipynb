{
 "cells": [
  {
   "cell_type": "code",
   "execution_count": 3,
   "metadata": {
    "collapsed": true
   },
   "outputs": [],
   "source": [
    "import struct\n",
    "from functools import reduce\n",
    "from dtw import *\n",
    "import crepe\n",
    "import rosbag\n",
    "import librosa\n",
    "import numpy as np\n",
    "import pretty_midi\n",
    "import rospy"
   ]
  },
  {
   "cell_type": "code",
   "execution_count": 4,
   "outputs": [],
   "source": [
    "def hz_to_note(hz):\n",
    "\treturn pretty_midi.note_number_to_name(pretty_midi.hz_to_note_number(hz))\n",
    "\n",
    "def note_to_pm_id(note_name):\n",
    "\treturn pretty_midi.note_name_to_number(note_name)\n",
    "\n",
    "def pm_id_to_note(pm_id):\n",
    "\treturn pretty_midi.note_number_to_name(pm_id)\n",
    "\n",
    "def note_to_hz(note):\n",
    "\treturn pretty_midi.note_number_to_hz(pretty_midi.note_name_to_number(note))"
   ],
   "metadata": {
    "collapsed": false,
    "pycharm": {
     "name": "#%%\n"
    }
   }
  },
  {
   "cell_type": "code",
   "execution_count": 5,
   "outputs": [],
   "source": [
    "class OnsetDetection:\n",
    "\tdef __init__(self):\n",
    "\t\tself.first_input = True\n",
    "\t\tself.notes = []\n",
    "\t\t# other parameters\n",
    "\t\tself.last_seq_id = 0\n",
    "\n",
    "\t\tself.init_instrument_config()\n",
    "\t\tself.init_audio_config()\n",
    "\t\tself.init_detection_config()\n",
    "\n",
    "\t\t# the buffer to read audio raw data from ros topic\n",
    "\t\tself.buffer = np.array([0.0] * self.sr, dtype=float)\n",
    "\n",
    "\tdef init_instrument_config(self):\n",
    "\t\t\"\"\"\n",
    "\t\t\tThe configuration of the instrument.\n",
    "\n",
    "\t\t\tAnd some examples of the configuration of different instruments:\n",
    "\t\t\t# harp\n",
    "\t\t\tself.fmin_note = \"C4\"\n",
    "\t\t\tself.fmax_note = \"C6\"\n",
    "\t\t\tself.semitones = 62\n",
    "\n",
    "\t\t\t# guzheng\n",
    "\t\t\tself.fmin_note = \"C2\"\n",
    "\t\t\tself.fmax_note = \"C8\"\n",
    "\t\t\tself.semitones = 84\n",
    "\t\t\"\"\"\n",
    "\n",
    "\t\t# marimba\n",
    "\t\tself.fmin_note = \"C4\"  # C4 pm_id=60\n",
    "\t\tself.fmin_note_id = note_to_pm_id(self.fmin_note)\n",
    "\t\tself.fmax_note = \"C7\"  # C7 pm_id=96\n",
    "\t\tself.fmax_note_id = note_to_pm_id(self.fmax_note)\n",
    "\t\tself.semitones = 36 + 24  # 60   36 for 4-6 octives, 24 for overtones for two octives\n",
    "\n",
    "\t\t# convert the western notation to the corresponding frequency\n",
    "\t\tself.fmin = note_to_hz(self.fmin_note)\n",
    "\t\tself.fmax = note_to_hz(self.fmax_note)\n",
    "\t\trospy.logdebug(\"Instrument configuration initialized.\")\n",
    "\n",
    "\tdef init_audio_config(self):\n",
    "\t\t\"\"\"\n",
    "\t\t\tThe configuration of the audio signal\n",
    "\t\t\"\"\"\n",
    "\t\tself.sr = 44100\n",
    "\t\tself.hop_length = 512  # each hop equal to one pixel in spectrum\n",
    "\t\tself.pixels_per_sec = self.sr / self.hop_length  # careful, it is float for further precise calculation.\n",
    "\t\trospy.logdebug(f\"Audio configuration initialized.\")\n",
    "\n",
    "\tdef init_detection_config(self):\n",
    "\t\t\"\"\"\n",
    "\t\t\tconfidence threshold for note classification(crepe)\n",
    "\t\t\"\"\"\n",
    "\t\t# For onset detection\n",
    "\t\tself.window_t = 1\n",
    "\t\tself.window_overlap_t = 0.5\n",
    "\t\tself.window_num = int(self.sr * self.window_t)\n",
    "\t\tself.window_overlap_num = int(self.sr * self.window_overlap_t)\n",
    "\t\tself.confidence_threshold = 0.7\n",
    "\t\tself.amplitude_ref = 10.0\n",
    "\t\tself.windows_for_classification = 0.1  # using 0.1 sec data after onset time for note classification\n",
    "\t\t# preload model to not block the callback on first message\n",
    "\t\t# capacities: 'tiny', 'small', 'medium', 'large', 'full'\n",
    "\t\tself.crepe_model = \"full\"  # choose the crepe model type for music note classification\n",
    "\t\trospy.logdebug(f\"Loading crepe {self.crepe_model}-model...\")\n",
    "\t\tcrepe.core.build_and_load_model(self.crepe_model)\n",
    "\t\trospy.logdebug(f\"Crepe {self.crepe_model}-model loaded.\")\n",
    "\t\trospy.logdebug(\"Detection configuration initialized.\")\n",
    "\t\tself.delta = 1.5\n",
    "\n",
    "\tdef reset(self):\n",
    "\t\t# audio buffer\n",
    "\t\tself.buffer_time = None\n",
    "\t\tself.buffer = np.array([], dtype=float)\n",
    "\n",
    "\tdef process_ros_bag(self, path_bag):\n",
    "\t\tbag = rosbag.Bag(path_bag, 'r')\n",
    "\t\tfor topic, msg, t in bag.read_messages(topics=['/audio_node/audio_stamped']):\n",
    "\t\t\t# the way to decode the data from ros topic\n",
    "\t\t\tmsg_data = np.array(struct.unpack(f\"{int(len(msg.audio.data) / 2)}h\", bytes(msg.audio.data)), dtype=float)\n",
    "\t\t\tself.buffer = np.concatenate([\n",
    "\t\t\t\tself.buffer,\n",
    "\t\t\t\tmsg_data\n",
    "\t\t\t])\n",
    "\t\t\t# make sure buffer is full, which is 1 sec new data and 1 sec old data. aka. 1 sec per update of cqt.\n",
    "\t\t\t# aggregate buffer until window+2*overlaps are full, like [0.5 Sec Overlap | 1 Sec window | 0.5 Sec Overlap]\n",
    "\t\t\tif self.buffer.shape[0] >= self.window_num + 2 * self.window_overlap_num:\n",
    "\t\t\t\tself.audio_process()\n",
    "\t\t\t\tself.buffer = self.buffer[self.window_num:]\n",
    "\t\tbag.close()\n",
    "\t\treturn self.notes\n",
    "\n",
    "\n",
    "\t# the most important function for signal processing logic\n",
    "\t# 0.5+ sec delay for detection, detect for each 1 sec.\n",
    "\tdef audio_process(self):\n",
    "\t\tonsets_cqt_time_list = self.onset_detection()\n",
    "\t\t# filter out the onset in the overlap windows, to keep the long tail inside\n",
    "\t\t# the whole windows include 0.5 sec overlap at both end, the target windows is only 1 sec at the middle.\n",
    "\t\tdef in_window(o):\n",
    "\t\t\t# only detect the onset inside the target windows, to make sure the long tail can be included.\n",
    "\t\t\treturn (o >= self.window_overlap_t and o < self.window_overlap_t + self.window_t)\n",
    "\n",
    "\t\tonsets_in_windows = [o for o in onsets_cqt_time_list if in_window(o)]\n",
    "\n",
    "\t\t# since the onset are extracted, then we need to pass them through the classification model to get note label.\n",
    "\t\twinners_raw_idx = []\n",
    "\t\twinner_onsets = []\n",
    "\t\tdurations = []\n",
    "\t\tdefault_duration = 0.5\n",
    "\t\t# publish events and plot visualization\n",
    "\t\tfor onset in onsets_in_windows:\n",
    "\t\t\tfundamental_frequency, confidence, winner_raw_idx, winner_pm_idx = self.onset_classification(onset)\n",
    "\t\t\tif winner_raw_idx is not None:\n",
    "\t\t\t\t# find the y-position of onset in spectrum\n",
    "\t\t\t\twinners_raw_idx.append(winner_raw_idx)  # ys\n",
    "\t\t\t\twinner_onsets.append(onset)  # xs\n",
    "\t\t\t\tdurations.append(default_duration)\n",
    "\n",
    "\t\t\t\tnote = hz_to_note(fundamental_frequency)\n",
    "\t\t\t\tself.notes.append(note)\n",
    "\t\t\t\trospy.logdebug(\n",
    "\t\t\t\t\tf\"Onset detection\"\n",
    "\t\t\t\t\tf\"[note:{note}, \"\n",
    "\t\t\t\t\tf\"confidence:{confidence:.4f}]\"\n",
    "\t\t\t\t)\n",
    "\n",
    "\tdef onset_detection(self,pre_max=5,post_max=2,pre_avg=5,post_avg=2,wait=10):\n",
    "\t\t\"\"\"\n",
    "\t\t\tconstant q transform with 60 half-tones from C4,\n",
    "\t\t\tin theory we only need notes from C4-C7, but in practice tuning\n",
    "\t\t\tis often too low and harmonics are needed above C6,\n",
    "\t\t\ttherefore we use 60 semitones include 2 octaves overtone.\n",
    "\t\t\"\"\"\n",
    "\t\tcqt = self.cqt()  # cqt ndarrary  (60,173)\n",
    "\t\tonset_env_cqt = librosa.onset.onset_strength(sr=self.sr, S=librosa.amplitude_to_db(cqt, ref=self.amplitude_ref))\n",
    "\t\t# detect when the onset(peak) happened within 2 sec cqt with shape (60,173)\n",
    "\t\t'''\n",
    "\t\tA sample n is selected as an peak if the corresponding x[n] fulfills the following three conditions:\n",
    "\t\t\t- x[n] == max(x[n - pre_max:n + post_max])  # the maximum in the neighborhood\n",
    "\t\t\t- x[n] >= mean(x[n - pre_avg:n + post_avg]) + delta  # the value is above local mean\n",
    "\t\t\t- n - previous_n > wait  # enforce a distance of at least wait samples\n",
    "\t\t'''\n",
    "\t\tonsets_cqt_time_list = librosa.onset.onset_detect(\n",
    "\t\t\ty=self.buffer,\n",
    "\t\t\tsr=self.sr,\n",
    "\t\t\thop_length=self.hop_length,\n",
    "\t\t\tonset_envelope=onset_env_cqt,\n",
    "\t\t\tunits=\"time\",\n",
    "\t\t\tbacktrack=False,\n",
    "\t\t\tnormalize=False,\n",
    "\t\t\tpre_max=pre_max,  # number of samples before n over which max is computed\n",
    "\t\t\tpost_max=post_max,  # number of samples after n over which max is computed\n",
    "\t\t\tpre_avg=pre_avg,  # number of samples before n over which mean is computed\n",
    "\t\t\tpost_avg=post_avg,  # number of samples after n over which mean is computed\n",
    "\t\t\tdelta=self.delta,  # threshold offset for mean\n",
    "\t\t\twait=wait,  # number of samples to wait after picking a peak\n",
    "\t\t)\n",
    "\t\treturn onsets_cqt_time_list\n",
    "\n",
    "\tdef setup_parms(self, amplitude_ref, delta):\n",
    "\t\tself.amplitude_ref = amplitude_ref\n",
    "\t\tself.delta = delta\n",
    "\n",
    "\tdef onset_classification(self, onset):\n",
    "\t\t\"\"\"\n",
    "\t\t\tinput: onset, a float value from 0 to 1, denote the percentage position of 1 sec\n",
    "\t\t\toutput:\n",
    "\t\t\t\t-   winner_freq: the freq of the winner signal\n",
    "\t\t\t\t-   max(buckets[winner]): the confidence\n",
    "\t\t\t\t-   winner_idx_in_spec: the idx in spec along y-axis\n",
    "\t\t\t\t-   winner_pm_idx: the note id in the pretty_midi\n",
    "\t\t\"\"\"\n",
    "\t\t# using 0.1 sec windows data for classification\n",
    "\t\tprediction_averaging_window = (\n",
    "\t\t\t\tself.windows_for_classification * self.sr\n",
    "\t\t)\n",
    "\t\t# extract the data from onset time until 0.1 sec later\n",
    "\t\texcerpt = self.buffer[int(onset * self.sr):int(onset * self.sr + prediction_averaging_window)]\n",
    "\t\t# neuron nets for onset classification\n",
    "\t\ttime, freq, confidence, _ = crepe.predict(\n",
    "\t\t\texcerpt,\n",
    "\t\t\tself.sr,\n",
    "\t\t\tviterbi=True,\n",
    "\t\t\tmodel_capacity=self.crepe_model,\n",
    "\t\t\tverbose=0\n",
    "\t\t)\n",
    "\n",
    "\t\t# filter out the onset, which confidence lower that threshold and note beyond range(C4-C7)\n",
    "\t\tconfidence_mask = confidence > self.confidence_threshold\n",
    "\t\tfreq_mask = (freq >= self.fmin) & (freq <= self.fmax)\n",
    "\t\tmask = confidence_mask & freq_mask\n",
    "\t\tfiltered_freq = freq[mask]\n",
    "\t\tfiltered_confidence = confidence[mask]\n",
    "\n",
    "\t\tif len(filtered_freq) > 0:\n",
    "\t\t\tbuckets = {}\n",
    "\t\t\tfor f, c in zip(filtered_freq, filtered_confidence):\n",
    "\t\t\t\tnote = hz_to_note(f)\n",
    "\t\t\t\tbuckets[note] = buckets.get(note, []) + [c]\n",
    "\n",
    "\t\t\tdef add_confidence(note):\n",
    "\t\t\t\treturn reduce(lambda x, y: x + y, buckets.get(note))\n",
    "\n",
    "\t\t\twinner = max(buckets, key=lambda a: add_confidence(a))\n",
    "\t\t\twinner_freq = note_to_hz(winner)\n",
    "\t\t\twinner_pm_idx = note_to_pm_id(winner)\n",
    "\t\t\twinner_raw_idx_in_spec = note_to_pm_id(winner) - self.fmin_note_id\n",
    "\t\t\tconfidence = max(buckets[winner])\n",
    "\t\t\treturn winner_freq, confidence, winner_raw_idx_in_spec, winner_pm_idx\n",
    "\t\telse:\n",
    "\t\t\treturn 0.0, 0.0, None, None\n",
    "\n",
    "\tdef cqt(self):\n",
    "\t\t\"\"\"\n",
    "\t\t\tThe function for constant Q transform\n",
    "\t\t\tinput: self.buffer\n",
    "\t\t\toutput: ndarrary with shape (60,173) by default\n",
    "\t\t\"\"\"\n",
    "\t\tcqt = np.abs(\n",
    "\t\t\tlibrosa.cqt(\n",
    "\t\t\t\ty=self.buffer,\n",
    "\t\t\t\tsr=self.sr,\n",
    "\t\t\t\thop_length=self.hop_length,\n",
    "\t\t\t\tfmin=self.fmin,\n",
    "\t\t\t\tn_bins=self.semitones,\n",
    "\t\t\t)\n",
    "\t\t)\n",
    "\t\treturn cqt"
   ],
   "metadata": {
    "collapsed": false,
    "pycharm": {
     "name": "#%%\n"
    }
   }
  },
  {
   "cell_type": "code",
   "execution_count": 6,
   "outputs": [],
   "source": [
    "gt = ['C4', 'C#4', 'D4', 'D#4', 'E4', 'F4', 'F#4', 'G4', 'G#4', 'A4','A#4', 'B4',\n",
    "      'C5', 'C#5', 'D5', 'D#5', 'E5', 'F5', 'F#5', 'G5', 'G#5', 'A5', 'A#5', 'B5',\n",
    "      'C6', 'C#6', 'D6', 'D#6', 'E6', 'F6', 'F#6', 'G6', 'G#6', 'A6', 'A#6', 'B6',\n",
    "      ]"
   ],
   "metadata": {
    "collapsed": false,
    "pycharm": {
     "name": "#%%\n"
    }
   }
  },
  {
   "cell_type": "code",
   "execution_count": 7,
   "outputs": [
    {
     "name": "stderr",
     "output_type": "stream",
     "text": [
      "2023-10-17 12:46:25.126703: I tensorflow/core/platform/cpu_feature_guard.cc:182] This TensorFlow binary is optimized to use available CPU instructions in performance-critical operations.\n",
      "To enable the following instructions: AVX2 FMA, in other operations, rebuild TensorFlow with the appropriate compiler flags.\n",
      "2023-10-17 12:46:26.519213: W tensorflow/compiler/tf2tensorrt/utils/py_utils.cc:38] TF-TRT Warning: Could not find TensorRT\n",
      "2023-10-17 12:46:29.442739: I tensorflow/compiler/xla/stream_executor/cuda/cuda_gpu_executor.cc:995] successful NUMA node read from SysFS had negative value (-1), but there must be at least one NUMA node, so returning NUMA node zero. See more at https://github.com/torvalds/linux/blob/v6.0/Documentation/ABI/testing/sysfs-bus-pci#L344-L355\n",
      "2023-10-17 12:46:29.518020: W tensorflow/core/common_runtime/gpu/gpu_device.cc:1960] Cannot dlopen some GPU libraries. Please make sure the missing libraries mentioned above are installed properly if you would like to use GPU. Follow the guide at https://www.tensorflow.org/install/gpu for how to download and setup the required libraries for your platform.\n",
      "Skipping registering GPU devices...\n"
     ]
    }
   ],
   "source": [
    "detector = OnsetDetection()\n",
    "bag_path = \"./2023-10-16-15-20-18.bag\"\n",
    "deltas = [0.3,0.5,0.7,1.0,1.5,2.0,2.5,3,3.5,4]\n",
    "amplitude_refs = [0,5,10,15,20,25,30,35,40,45]\n"
   ],
   "metadata": {
    "collapsed": false,
    "pycharm": {
     "name": "#%%\n"
    }
   }
  },
  {
   "cell_type": "code",
   "execution_count": 8,
   "outputs": [],
   "source": [
    "def precise(pr,gt):\n",
    "    pr = np.asarray(pr)\n",
    "    gt = np.asarray(gt)\n",
    "    hitted = np.intersect1d(pr,gt).shape[0]\n",
    "\n",
    "    return  hitted/max(pr.shape[0],gt.shape[0])"
   ],
   "metadata": {
    "collapsed": false,
    "pycharm": {
     "name": "#%%\n"
    }
   }
  },
  {
   "cell_type": "code",
   "execution_count": 9,
   "outputs": [
    {
     "name": "stderr",
     "output_type": "stream",
     "text": [
      "/home/wang/workspace/marimbabot_ws/env_this/lib/python3.8/site-packages/setuptools_scm/_integration/setuptools.py:30: RuntimeWarning: \n",
      "ERROR: setuptools==44.0.0 is used in combination with setuptools_scm>=8.x\n",
      "\n",
      "Your build configuration is incomplete and previously worked by accident!\n",
      "setuptools_scm requires setuptools>=61\n",
      "\n",
      "Suggested workaround if applicable:\n",
      " - migrating from the deprecated setup_requires mechanism to pep517/518\n",
      "   and using a pyproject.toml to declare build dependencies\n",
      "   which are reliably pre-installed before running the build tools\n",
      "\n",
      "  warnings.warn(\n"
     ]
    },
    {
     "name": "stdout",
     "output_type": "stream",
     "text": [
      "delta:0.3, ampref:0: precise:0.4\n",
      "delta:0.3, ampref:5: precise:0.4186046511627907\n",
      "delta:0.3, ampref:10: precise:0.3763440860215054\n",
      "delta:0.3, ampref:15: precise:0.37894736842105264\n",
      "delta:0.3, ampref:20: precise:0.3956043956043956\n",
      "delta:0.3, ampref:25: precise:0.4\n",
      "delta:0.3, ampref:30: precise:0.39325842696629215\n",
      "delta:0.3, ampref:35: precise:0.4044943820224719\n",
      "delta:0.3, ampref:40: precise:0.4090909090909091\n",
      "delta:0.3, ampref:45: precise:0.375\n",
      "delta:0.5, ampref:0: precise:0.43373493975903615\n",
      "delta:0.5, ampref:5: precise:0.4\n",
      "delta:0.5, ampref:10: precise:0.42857142857142855\n",
      "delta:0.5, ampref:15: precise:0.38461538461538464\n",
      "delta:0.5, ampref:20: precise:0.4235294117647059\n",
      "delta:0.5, ampref:25: precise:0.42857142857142855\n",
      "delta:0.5, ampref:30: precise:0.4\n",
      "delta:0.5, ampref:35: precise:0.41379310344827586\n",
      "delta:0.5, ampref:40: precise:0.3870967741935484\n",
      "delta:0.5, ampref:45: precise:0.41379310344827586\n",
      "delta:0.7, ampref:0: precise:0.5\n",
      "delta:0.7, ampref:5: precise:0.4430379746835443\n",
      "delta:0.7, ampref:10: precise:0.4675324675324675\n",
      "delta:0.7, ampref:15: precise:0.46153846153846156\n",
      "delta:0.7, ampref:20: precise:0.43209876543209874\n",
      "delta:0.7, ampref:25: precise:0.45\n",
      "delta:0.7, ampref:30: precise:0.43902439024390244\n",
      "delta:0.7, ampref:35: precise:0.43373493975903615\n",
      "delta:0.7, ampref:40: precise:0.45\n",
      "delta:0.7, ampref:45: precise:0.4069767441860465\n",
      "delta:1.0, ampref:0: precise:0.48\n",
      "delta:1.0, ampref:5: precise:0.5833333333333334\n",
      "delta:1.0, ampref:10: precise:0.5070422535211268\n",
      "delta:1.0, ampref:15: precise:0.5384615384615384\n",
      "delta:1.0, ampref:20: precise:0.4794520547945205\n",
      "delta:1.0, ampref:25: precise:0.4857142857142857\n",
      "delta:1.0, ampref:30: precise:0.5396825396825397\n",
      "delta:1.0, ampref:35: precise:0.5625\n",
      "delta:1.0, ampref:40: precise:0.5645161290322581\n",
      "delta:1.0, ampref:45: precise:0.5538461538461539\n",
      "delta:1.5, ampref:0: precise:0.7608695652173914\n",
      "delta:1.5, ampref:5: precise:0.7659574468085106\n",
      "delta:1.5, ampref:10: precise:0.813953488372093\n",
      "delta:1.5, ampref:15: precise:0.75\n",
      "delta:1.5, ampref:20: precise:0.7446808510638298\n",
      "delta:1.5, ampref:25: precise:0.782608695652174\n",
      "delta:1.5, ampref:30: precise:0.7555555555555555\n",
      "delta:1.5, ampref:35: precise:0.8181818181818182\n",
      "delta:1.5, ampref:40: precise:0.8181818181818182\n",
      "delta:1.5, ampref:45: precise:0.8095238095238095\n",
      "delta:2.0, ampref:0: precise:0.9473684210526315\n",
      "delta:2.0, ampref:5: precise:0.9230769230769231\n",
      "delta:2.0, ampref:10: precise:1.0\n",
      "delta:2.0, ampref:15: precise:0.9473684210526315\n",
      "delta:2.0, ampref:20: precise:1.0\n",
      "delta:2.0, ampref:25: precise:0.9473684210526315\n",
      "delta:2.0, ampref:30: precise:0.972972972972973\n",
      "delta:2.0, ampref:35: precise:0.9459459459459459\n",
      "delta:2.0, ampref:40: precise:0.9459459459459459\n",
      "delta:2.0, ampref:45: precise:0.972972972972973\n",
      "delta:2.5, ampref:0: precise:0.972972972972973\n",
      "delta:2.5, ampref:5: precise:1.0\n",
      "delta:2.5, ampref:10: precise:1.0\n",
      "delta:2.5, ampref:15: precise:1.0\n",
      "delta:2.5, ampref:20: precise:1.0\n",
      "delta:2.5, ampref:25: precise:1.0\n",
      "delta:2.5, ampref:30: precise:1.0\n",
      "delta:2.5, ampref:35: precise:1.0\n",
      "delta:2.5, ampref:40: precise:1.0\n",
      "delta:2.5, ampref:45: precise:0.972972972972973\n",
      "delta:3, ampref:0: precise:0.9722222222222222\n",
      "delta:3, ampref:5: precise:1.0\n",
      "delta:3, ampref:10: precise:0.9722222222222222\n",
      "delta:3, ampref:15: precise:1.0\n",
      "delta:3, ampref:20: precise:1.0\n",
      "delta:3, ampref:25: precise:1.0\n",
      "delta:3, ampref:30: precise:1.0\n",
      "delta:3, ampref:35: precise:1.0\n",
      "delta:3, ampref:40: precise:1.0\n",
      "delta:3, ampref:45: precise:0.9722222222222222\n",
      "delta:3.5, ampref:0: precise:1.0\n",
      "delta:3.5, ampref:5: precise:1.0\n",
      "delta:3.5, ampref:10: precise:1.0\n",
      "delta:3.5, ampref:15: precise:1.0\n",
      "delta:3.5, ampref:20: precise:1.0\n",
      "delta:3.5, ampref:25: precise:1.0\n",
      "delta:3.5, ampref:30: precise:1.0\n",
      "delta:3.5, ampref:35: precise:1.0\n",
      "delta:3.5, ampref:40: precise:1.0\n",
      "delta:3.5, ampref:45: precise:1.0\n",
      "delta:4, ampref:0: precise:1.0\n",
      "delta:4, ampref:5: precise:1.0\n",
      "delta:4, ampref:10: precise:0.9722222222222222\n",
      "delta:4, ampref:15: precise:1.0\n",
      "delta:4, ampref:20: precise:1.0\n",
      "delta:4, ampref:25: precise:1.0\n",
      "delta:4, ampref:30: precise:1.0\n",
      "delta:4, ampref:35: precise:1.0\n",
      "delta:4, ampref:40: precise:1.0\n",
      "delta:4, ampref:45: precise:1.0\n"
     ]
    }
   ],
   "source": [
    "scores_2d = []\n",
    "for delta in deltas:\n",
    "    score_1d = []\n",
    "    for amplitude_ref in amplitude_refs:\n",
    "        detector.setup_parms(amplitude_ref=amplitude_ref,delta=delta)\n",
    "        pr = detector.process_ros_bag(bag_path)\n",
    "        detector.notes = []\n",
    "        score = precise(pr,gt)\n",
    "        print(f\"delta:{delta}, ampref:{amplitude_ref}: precise:{score}\")\n",
    "        score_1d.append(score)\n",
    "    scores_2d.append(score_1d)\n"
   ],
   "metadata": {
    "collapsed": false,
    "pycharm": {
     "name": "#%%\n"
    }
   }
  },
  {
   "cell_type": "code",
   "execution_count": 10,
   "outputs": [],
   "source": [
    "import  matplotlib.pyplot as plt"
   ],
   "metadata": {
    "collapsed": false,
    "pycharm": {
     "name": "#%%\n"
    }
   }
  },
  {
   "cell_type": "code",
   "execution_count": 11,
   "outputs": [],
   "source": [
    "scores_2d = np.asarray(scores_2d)"
   ],
   "metadata": {
    "collapsed": false,
    "pycharm": {
     "name": "#%%\n"
    }
   }
  },
  {
   "cell_type": "code",
   "execution_count": 23,
   "outputs": [
    {
     "data": {
      "text/plain": "<Figure size 600x400 with 1 Axes>",
      "image/png": "[encoded data removed]"
     },
     "metadata": {},
     "output_type": "display_data"
    }
   ],
   "source": [
    "x = np.asarray(deltas)\n",
    "y = np.mean(scores_2d,axis=1)\n",
    "plt.figure(figsize=(6,4))\n",
    "plt.plot(x,y,'-')\n",
    "plt.grid()\n",
    "plt.ylabel(\"precision\")\n",
    "plt.xlabel(\"delta: local mean threshold\")\n",
    "plt.savefig(\"./delta.pdf\", format=\"pdf\", bbox_inches=\"tight\")\n",
    "plt.show()"
   ],
   "metadata": {
    "collapsed": false,
    "pycharm": {
     "name": "#%%\n"
    }
   }
  },
  {
   "cell_type": "code",
   "execution_count": 24,
   "outputs": [
    {
     "data": {
      "text/plain": "<Figure size 600x400 with 1 Axes>",
      "image/png": "[encoded data removed]"
     },
     "metadata": {},
     "output_type": "display_data"
    }
   ],
   "source": [
    "x = np.asarray(amplitude_refs)\n",
    "y = np.mean(scores_2d,axis=0)\n",
    "plt.figure(figsize=(6,4))\n",
    "plt.plot(x,y,'-')\n",
    "plt.ylabel(\"precision\")\n",
    "plt.xlabel(\"amplitude reference\")\n",
    "plt.grid()\n",
    "plt.savefig(\"./amp_ref.pdf\", format=\"pdf\", bbox_inches=\"tight\")\n",
    "plt.show()"
   ],
   "metadata": {
    "collapsed": false,
    "pycharm": {
     "name": "#%%\n"
    }
   }
  },
  {
   "cell_type": "code",
   "execution_count": 13,
   "outputs": [],
   "source": [],
   "metadata": {
    "collapsed": false,
    "pycharm": {
     "name": "#%%\n"
    }
   }
  },
  {
   "cell_type": "code",
   "execution_count": null,
   "outputs": [],
   "source": [],
   "metadata": {
    "collapsed": false,
    "pycharm": {
     "name": "#%%\n"
    }
   }
  }
 ],
 "metadata": {
  "kernelspec": {
   "name": "marimbabot",
   "language": "python",
   "display_name": "marimbabot_env"
  },
  "language_info": {
   "codemirror_mode": {
    "name": "ipython",
    "version": 2
   },
   "file_extension": ".py",
   "mimetype": "text/x-python",
   "name": "python",
   "nbconvert_exporter": "python",
   "pygments_lexer": "ipython2",
   "version": "2.7.6"
  }
 },
 "nbformat": 4,
 "nbformat_minor": 0
}